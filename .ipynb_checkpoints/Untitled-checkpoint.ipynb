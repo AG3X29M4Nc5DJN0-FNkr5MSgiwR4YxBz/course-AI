{
 "cells": [
  {
   "cell_type": "code",
   "execution_count": 6,
   "metadata": {},
   "outputs": [
    {
     "data": {
      "text/latex": [
       "$$\\left[\\begin{matrix}\\sin{\\left (\\theta_{5} \\right )} \\sin{\\left (\\theta_{1} + \\theta_{2} \\right )} - \\sin{\\left (\\theta_{3} + \\theta_{4} \\right )} \\cos{\\left (\\theta_{5} \\right )} \\cos{\\left (\\theta_{1} + \\theta_{2} \\right )} & \\sin{\\left (\\theta_{5} \\right )} \\sin{\\left (\\theta_{3} + \\theta_{4} \\right )} \\cos{\\left (\\theta_{1} + \\theta_{2} \\right )} + \\sin{\\left (\\theta_{1} + \\theta_{2} \\right )} \\cos{\\left (\\theta_{5} \\right )} & \\cos{\\left (\\theta_{1} + \\theta_{2} \\right )} \\cos{\\left (\\theta_{3} + \\theta_{4} \\right )} & 10 \\sin{\\left (\\theta_{1} + \\theta_{2} \\right )} + 95 \\cos{\\left (\\theta_{1} \\right )} + 58 \\cos{\\left (\\theta_{3} \\right )} \\cos{\\left (\\theta_{1} + \\theta_{2} \\right )} + 110 \\cos{\\left (\\theta_{1} + \\theta_{2} \\right )} \\cos{\\left (\\theta_{3} + \\theta_{4} \\right )} + 95 \\cos{\\left (\\theta_{1} + \\theta_{2} \\right )}\\\\- \\sin{\\left (\\theta_{5} \\right )} \\cos{\\left (\\theta_{1} + \\theta_{2} \\right )} - \\sin{\\left (\\theta_{1} + \\theta_{2} \\right )} \\sin{\\left (\\theta_{3} + \\theta_{4} \\right )} \\cos{\\left (\\theta_{5} \\right )} & \\sin{\\left (\\theta_{5} \\right )} \\sin{\\left (\\theta_{1} + \\theta_{2} \\right )} \\sin{\\left (\\theta_{3} + \\theta_{4} \\right )} - \\cos{\\left (\\theta_{5} \\right )} \\cos{\\left (\\theta_{1} + \\theta_{2} \\right )} & \\sin{\\left (\\theta_{1} + \\theta_{2} \\right )} \\cos{\\left (\\theta_{3} + \\theta_{4} \\right )} & 95 \\sin{\\left (\\theta_{1} \\right )} + 58 \\sin{\\left (\\theta_{1} + \\theta_{2} \\right )} \\cos{\\left (\\theta_{3} \\right )} + 110 \\sin{\\left (\\theta_{1} + \\theta_{2} \\right )} \\cos{\\left (\\theta_{3} + \\theta_{4} \\right )} + 95 \\sin{\\left (\\theta_{1} + \\theta_{2} \\right )} - 10 \\cos{\\left (\\theta_{1} + \\theta_{2} \\right )}\\\\\\cos{\\left (\\theta_{5} \\right )} \\cos{\\left (\\theta_{3} + \\theta_{4} \\right )} & - \\sin{\\left (\\theta_{5} \\right )} \\cos{\\left (\\theta_{3} + \\theta_{4} \\right )} & \\sin{\\left (\\theta_{3} + \\theta_{4} \\right )} & 58 \\sin{\\left (\\theta_{3} \\right )} + 110 \\sin{\\left (\\theta_{3} + \\theta_{4} \\right )} + 158\\\\0 & 0 & 0 & 1\\end{matrix}\\right]$$"
      ],
      "text/plain": [
       "⎡sin(θ₅)⋅sin(θ₁ + θ₂) - sin(θ₃ + θ₄)⋅cos(θ₅)⋅cos(θ₁ + θ₂)   sin(θ₅)⋅sin(θ₃ + θ\n",
       "⎢                                                                             \n",
       "⎢-sin(θ₅)⋅cos(θ₁ + θ₂) - sin(θ₁ + θ₂)⋅sin(θ₃ + θ₄)⋅cos(θ₅)  sin(θ₅)⋅sin(θ₁ + θ\n",
       "⎢                                                                             \n",
       "⎢                  cos(θ₅)⋅cos(θ₃ + θ₄)                                      -\n",
       "⎢                                                                             \n",
       "⎣                            0                                                \n",
       "\n",
       "₄)⋅cos(θ₁ + θ₂) + sin(θ₁ + θ₂)⋅cos(θ₅)  cos(θ₁ + θ₂)⋅cos(θ₃ + θ₄)  10⋅sin(θ₁ +\n",
       "                                                                              \n",
       "₂)⋅sin(θ₃ + θ₄) - cos(θ₅)⋅cos(θ₁ + θ₂)  sin(θ₁ + θ₂)⋅cos(θ₃ + θ₄)  95⋅sin(θ₁) \n",
       "                                                                              \n",
       "sin(θ₅)⋅cos(θ₃ + θ₄)                          sin(θ₃ + θ₄)                    \n",
       "                                                                              \n",
       "         0                                          0                         \n",
       "\n",
       " θ₂) + 95⋅cos(θ₁) + 58⋅cos(θ₃)⋅cos(θ₁ + θ₂) + 110⋅cos(θ₁ + θ₂)⋅cos(θ₃ + θ₄) + \n",
       "                                                                              \n",
       "+ 58⋅sin(θ₁ + θ₂)⋅cos(θ₃) + 110⋅sin(θ₁ + θ₂)⋅cos(θ₃ + θ₄) + 95⋅sin(θ₁ + θ₂) - \n",
       "                                                                              \n",
       "                       58⋅sin(θ₃) + 110⋅sin(θ₃ + θ₄) + 158                    \n",
       "                                                                              \n",
       "                                        1                                     \n",
       "\n",
       "95⋅cos(θ₁ + θ₂)⎤\n",
       "               ⎥\n",
       "10⋅cos(θ₁ + θ₂)⎥\n",
       "               ⎥\n",
       "               ⎥\n",
       "               ⎥\n",
       "               ⎦"
      ]
     },
     "execution_count": 6,
     "metadata": {},
     "output_type": "execute_result"
    }
   ],
   "source": [
    "import numpy as np\n",
    "from sympy import *\n",
    "\n",
    "init_printing(use_unicode=True)\n",
    "li = [95, 95, 58, 0, 0]\n",
    "di = [158, 0, 0, 10, 110]\n",
    "alphai = [0, pi / 2, 0, pi / 2, 0]\n",
    "theta4 = symbols('theta4')\n",
    "thetai = [symbols('theta1'), symbols('theta2'), symbols('theta3'),\n",
    "          theta4 + pi / 2, symbols('theta5')]\n",
    "\n",
    "\n",
    "def forward_kinematic(number_joints):\n",
    "    DH_param = []\n",
    "    # fills in the DH table with variable amounts of revolute joints\n",
    "    for i in range(number_joints):\n",
    "        DHrow = []\n",
    "        DHrow.append(li[i])\n",
    "        DHrow.append(di[i])\n",
    "        DHrow.append(alphai[i])\n",
    "        DHrow.append(thetai[i])\n",
    "        DH_param.append(DHrow)\n",
    "    return DH_param  # returns a list of every joint configurations as DH parameters\n",
    "\n",
    "\n",
    "# takes the DH parameters and transforms them into the transformation matrix\n",
    "def DHtoA(DH_param):\n",
    "    nb_param = 4  # constant number of parameters per row\n",
    "    A_temp = []\n",
    "    for i in range(len(DH_param)):  # construct each individual matrix\n",
    "        DH_temp = DH_param[i]\n",
    "        A_temp.append(AMatrix(DH_temp[0], DH_temp[1], DH_temp[2], DH_temp[3], ))\n",
    "\n",
    "    A = A_temp[0]\n",
    "    for i in range(len(A_temp) - 1):\n",
    "        A *= A_temp[i + 1]\n",
    "    return A\n",
    "\n",
    "\n",
    "def AMatrix(li, di, alphai, thetai):\n",
    "    A = Matrix([[cos(thetai), -sin(thetai) * cos(alphai), sin(thetai) * sin(alphai), li * cos(thetai)],\n",
    "                [sin(thetai), cos(thetai) * cos(alphai), -cos(thetai) * sin(alphai), li * sin(thetai)],\n",
    "                [0, sin(alphai), cos(alphai), di],\n",
    "                [0, 0, 0, 1]])\n",
    "    return A  # returns the Numpy array of the transformation on a row\n",
    "\n",
    "\n",
    "def solve_IK(simp_FK):\n",
    "    eq = [\n",
    "\n",
    "    ]\n",
    "\n",
    "\n",
    "FK = DHtoA(forward_kinematic(5))\n",
    "simp_FK = FK.applyfunc(simplify)\n",
    "\n",
    "simp_FK\n",
    "\n",
    "q11, q12, q13, q14 ,q21, q22, q23, q24, q31, q32, q33, q34= symbols('q11, q12, q13, q14 ,q21, q22, q23, q24, q31, q32, q33, q34')\n",
    "\n",
    "syst = [sin(thetai[4])*sin(thetai[0]+thetai[1]) - sin(thetai[2]+thetai4)*cos(thetai[4])*cos(thetai[0]+thetai[1])]\n",
    "\n",
    "nonlinsolve(syst, [thetai[0], thetai[1], theta[2], theta4, theta[4]])\n"
   ]
  },
  {
   "cell_type": "code",
   "execution_count": null,
   "metadata": {
    "collapsed": true
   },
   "outputs": [],
   "source": []
  }
 ],
 "metadata": {
  "kernelspec": {
   "display_name": "Python 3",
   "language": "python",
   "name": "python3"
  },
  "language_info": {
   "codemirror_mode": {
    "name": "ipython",
    "version": 3
   },
   "file_extension": ".py",
   "mimetype": "text/x-python",
   "name": "python",
   "nbconvert_exporter": "python",
   "pygments_lexer": "ipython3",
   "version": "3.6.3"
  }
 },
 "nbformat": 4,
 "nbformat_minor": 2
}
